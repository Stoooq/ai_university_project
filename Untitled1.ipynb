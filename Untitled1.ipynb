{
 "cells": [
  {
   "cell_type": "code",
   "execution_count": 1,
   "id": "8ec82fa1-ae94-45f0-bd5a-b60b3a9de008",
   "metadata": {},
   "outputs": [
    {
     "name": "stdout",
     "output_type": "stream",
     "text": [
      "Zapisano 250 wersji do: dataset2/silver_chest_small2\n",
      "Zapisano 250 wersji do: dataset2/small_silver4\n",
      "Zapisano 250 wersji do: dataset2/gold_chest_small\n",
      "Zapisano 250 wersji do: dataset2/gold_chest_big\n",
      "Zapisano 250 wersji do: dataset2/big_gold2\n",
      "Zapisano 250 wersji do: dataset2/gold_small2\n",
      "Zapisano 250 wersji do: dataset2/iron_chest_big\n",
      "Zapisano 250 wersji do: dataset2/iron_chest_small\n",
      "Zapisano 250 wersji do: dataset2/Holy Chest\n"
     ]
    },
    {
     "name": "stderr",
     "output_type": "stream",
     "text": [
      "libpng warning: iCCP: known incorrect sRGB profile\n"
     ]
    },
    {
     "name": "stdout",
     "output_type": "stream",
     "text": [
      "Zapisano 250 wersji do: dataset2/silver_chest_1\n",
      "Zapisano 250 wersji do: dataset2/small_gold3\n"
     ]
    },
    {
     "name": "stderr",
     "output_type": "stream",
     "text": [
      "libpng warning: iCCP: known incorrect sRGB profile\n",
      "libpng warning: iCCP: known incorrect sRGB profile\n"
     ]
    },
    {
     "name": "stdout",
     "output_type": "stream",
     "text": [
      "Zapisano 250 wersji do: dataset2/Gold Chest\n",
      "Zapisano 250 wersji do: dataset2/Demon Chest\n"
     ]
    },
    {
     "name": "stderr",
     "output_type": "stream",
     "text": [
      "libpng warning: iCCP: known incorrect sRGB profile\n",
      "libpng warning: iCCP: known incorrect sRGB profile\n"
     ]
    },
    {
     "name": "stdout",
     "output_type": "stream",
     "text": [
      "Zapisano 250 wersji do: dataset2/Patry Chest\n",
      "Zapisano 250 wersji do: dataset2/Silver Chest\n",
      "Zapisano 250 wersji do: dataset2/WoodenChest_Gold_animation\n"
     ]
    }
   ],
   "source": [
    "import os\n",
    "import cv2\n",
    "import numpy as np\n",
    "import random\n",
    "\n",
    "IMAGE_DIR = \"assets/chests\"\n",
    "OUTPUT_DIR = \"dataset2\"\n",
    "IMAGE_SIZE = (16, 16)\n",
    "NUM_NOISY_VERSIONS = 250\n",
    "\n",
    "def add_noise(img, intensity=1.0, force_noise_type=None):\n",
    "    angle = random.choice([0, 90, 180, 270])\n",
    "    if angle != 0:\n",
    "        img = cv2.rotate(img, {\n",
    "            90: cv2.ROTATE_90_CLOCKWISE,\n",
    "            180: cv2.ROTATE_180,\n",
    "            270: cv2.ROTATE_90_COUNTERCLOCKWISE\n",
    "        }[angle])\n",
    "\n",
    "    noise_type = force_noise_type if force_noise_type in [\"gauss\", \"s&p\"] else random.choice([\"gauss\", \"s&p\"])\n",
    "\n",
    "    if noise_type == \"gauss\":\n",
    "        row, col, ch = img.shape\n",
    "        mean = 0\n",
    "        sigma = int(25 * intensity)\n",
    "        gauss = np.random.normal(mean, sigma, (row, col, ch)).astype('uint8')\n",
    "        noisy = cv2.add(img, gauss)\n",
    "\n",
    "    elif noise_type == \"s&p\":\n",
    "        s_vs_p = 0.5\n",
    "        amount = 0.04 * intensity\n",
    "        noisy = np.copy(img)\n",
    "        \n",
    "        num_salt = np.ceil(amount * img.size * s_vs_p)\n",
    "        coords = [np.random.randint(0, i - 1, int(num_salt)) for i in img.shape]\n",
    "        noisy[tuple(coords)] = 255\n",
    "\n",
    "        num_pepper = np.ceil(amount * img.size * (1. - s_vs_p))\n",
    "        coords = [np.random.randint(0, i - 1, int(num_pepper)) for i in img.shape]\n",
    "        noisy[tuple(coords)] = 0\n",
    "\n",
    "    return noisy\n",
    "\n",
    "def save_noisy_images():\n",
    "    os.makedirs(OUTPUT_DIR, exist_ok=True)\n",
    "\n",
    "    for filename in os.listdir(IMAGE_DIR):\n",
    "        if not filename.lower().endswith(('.png', '.jpg', '.jpeg')):\n",
    "            continue\n",
    "\n",
    "        image_path = os.path.join(IMAGE_DIR, filename)\n",
    "        label = os.path.splitext(filename)[0]\n",
    "        class_dir = os.path.join(OUTPUT_DIR, label)\n",
    "        os.makedirs(class_dir, exist_ok=True)\n",
    "\n",
    "        img = cv2.imread(image_path)\n",
    "        if img is None:\n",
    "            print(f\"Nie udało się wczytać obrazu: {image_path}\")\n",
    "            continue\n",
    "\n",
    "        img = cv2.resize(img, IMAGE_SIZE)\n",
    "\n",
    "        for i in range(NUM_NOISY_VERSIONS):\n",
    "            noisy_img = add_noise(img)\n",
    "            output_filename = f\"noisy_{i:03d}.png\"\n",
    "            output_path = os.path.join(class_dir, output_filename)\n",
    "            cv2.imwrite(output_path, noisy_img)\n",
    "\n",
    "        print(f\"Zapisano {NUM_NOISY_VERSIONS} wersji do: {class_dir}\")\n",
    "\n",
    "if __name__ == \"__main__\":\n",
    "    save_noisy_images()\n"
   ]
  },
  {
   "cell_type": "code",
   "execution_count": null,
   "id": "e926e75d-5474-4d04-818b-5807ac97ba1d",
   "metadata": {},
   "outputs": [],
   "source": []
  }
 ],
 "metadata": {
  "kernelspec": {
   "display_name": "Python 3",
   "language": "python",
   "name": "python3"
  },
  "language_info": {
   "codemirror_mode": {
    "name": "ipython",
    "version": 3
   },
   "file_extension": ".py",
   "mimetype": "text/x-python",
   "name": "python",
   "nbconvert_exporter": "python",
   "pygments_lexer": "ipython3",
   "version": "3.12.3"
  }
 },
 "nbformat": 4,
 "nbformat_minor": 5
}
